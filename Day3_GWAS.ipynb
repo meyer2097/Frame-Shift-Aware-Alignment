{
  "cells": [
    {
      "cell_type": "markdown",
      "metadata": {
        "id": "view-in-github",
        "colab_type": "text"
      },
      "source": [
        "<a href=\"https://colab.research.google.com/github/meyer2097/Frame-Shift-Aware-Alignment/blob/main/Day3_GWAS.ipynb\" target=\"_parent\"><img src=\"https://colab.research.google.com/assets/colab-badge.svg\" alt=\"Open In Colab\"/></a>"
      ]
    },
    {
      "cell_type": "markdown",
      "metadata": {
        "id": "v3Myu2Ey7Czd"
      },
      "source": [
        "# Today's topics\n",
        "We will try to find out which phenotypic traits are associated with genetic markers in the BXD mouse population. This will allow us to make statements about the level of heritability of several traits and help us identify candidate genes responsible for specific traits.\n",
        "\n",
        "There are several types of studies relevant in this context:\n",
        "\n",
        "* Single gene association studies\n",
        "* Genome wide association studies\n",
        "* Phenome wide association studies\n",
        "\n",
        "Today we'll perform a genome-wide association study. In particular, we will investigate which SNPs are associated with the coat color of mice."
      ]
    },
    {
      "cell_type": "markdown",
      "metadata": {
        "id": "uIyw3kg17Czg"
      },
      "source": [
        "## Imports"
      ]
    },
    {
      "cell_type": "code",
      "execution_count": 1,
      "metadata": {
        "id": "X7Qf8PW47Czg"
      },
      "outputs": [],
      "source": [
        "import pandas as pd\n",
        "import numpy as np\n",
        "import seaborn as sns\n",
        "import matplotlib.pyplot as plt\n",
        "from statsmodels.sandbox.stats.multicomp import multipletests\n",
        "import scipy"
      ]
    },
    {
      "cell_type": "markdown",
      "metadata": {
        "id": "aiOEDM_r7Czh"
      },
      "source": [
        "## Load genotype data\n",
        "To ensure that we all use the same input data, we provide the code you should load the genotype information with, just update the genotype tsv file's path to where you stored it on your system.\n",
        "\n",
        "We split the table into metadata (`geno_meta`) and genotype data (`geno_bdh`) parts and index them with the `Locus` identifier."
      ]
    },
    {
      "cell_type": "code",
      "execution_count": 3,
      "metadata": {
        "deletable": false,
        "nbgrader": {
          "cell_type": "code",
          "checksum": "bc7dbed15d00fa01204e55e6f1ceb6ab",
          "grade": true,
          "grade_id": "cell-12364ef0a41e747f",
          "locked": false,
          "points": 0,
          "schema_version": 3,
          "solution": true,
          "task": false
        },
        "id": "ohP1xcEk7Czh"
      },
      "outputs": [],
      "source": [
        "genotype = pd.read_csv(\"genotype.txt\", sep=\"\\t\", comment=\"@\", index_col=\"Locus\")\n",
        "geno_meta = genotype.iloc[:, :3]\n",
        "geno_bdh = genotype.iloc[:, 3:]"
      ]
    },
    {
      "cell_type": "markdown",
      "metadata": {
        "id": "zWpBXaOZ7Czh"
      },
      "source": [
        "### Remove strains with a lot of missing genotype values\n",
        "Before you convert the B/D/H/U labels to numeric, find the main culprits for the U (unknown) labels.\n",
        "Only keep strains with less than 10 unknown loci and put them in `geno_bdh2`. Which strains did you have to remove?"
      ]
    },
    {
      "cell_type": "code",
      "execution_count": 4,
      "metadata": {
        "deletable": false,
        "nbgrader": {
          "cell_type": "code",
          "checksum": "51d24ba51c151f1db716211e76fc0f7b",
          "grade": true,
          "grade_id": "cell-74622aed6f1702e7",
          "locked": false,
          "points": 0,
          "schema_version": 3,
          "solution": true,
          "task": false
        },
        "id": "hvIGtJyq7Czh"
      },
      "outputs": [],
      "source": [
        "geno_bdh2 = geno_bdh.loc[:, np.sum(geno_bdh == 'U', axis=0) < 10]"
      ]
    },
    {
      "cell_type": "code",
      "execution_count": 5,
      "metadata": {
        "colab": {
          "base_uri": "https://localhost:8080/"
        },
        "id": "lk3uMtqi7Czi",
        "outputId": "9c23fd32-340e-4628-a2dd-903a7e88ba25"
      },
      "outputs": [
        {
          "output_type": "stream",
          "name": "stdout",
          "text": [
            "(3811, 93)\n",
            "(3811, 90)\n"
          ]
        }
      ],
      "source": [
        "#Which strains did you have to remove?\n",
        "print(geno_bdh.shape)\n",
        "print(geno_bdh2.shape)"
      ]
    },
    {
      "cell_type": "code",
      "execution_count": 6,
      "metadata": {
        "colab": {
          "base_uri": "https://localhost:8080/"
        },
        "id": "UcGjTSRt7Czi",
        "outputId": "2cc53b17-2805-49b3-9672-0b90a632abab"
      },
      "outputs": [
        {
          "output_type": "stream",
          "name": "stdout",
          "text": [
            "I had to remove three strais, these were  {'BXD102', 'BXD73b', 'BXD101'}\n"
          ]
        }
      ],
      "source": [
        "print(\"I had to remove three strais, these were \", set(geno_bdh.columns)-set(geno_bdh2.columns))"
      ]
    },
    {
      "cell_type": "markdown",
      "metadata": {
        "id": "w8hTLIgb7Czj"
      },
      "source": [
        "### Replace categorical genotype labels with numerical encoding\n",
        "\n",
        "Unlike yesterday, we will use `{B: 0, H: 1, D: 2, U: 1}` encoding for the genotypes. Due to the previous step where we discarded strains with a lot of missing data, we have very few unknowns left, so it's acceptable to treat them as the intermediate heterozygous genotype instead of missing values. Call the numerical genotype dataframe `geno`."
      ]
    },
    {
      "cell_type": "code",
      "execution_count": 7,
      "metadata": {
        "deletable": false,
        "nbgrader": {
          "cell_type": "code",
          "checksum": "f0852cae339059004d0a33bcb3532b8f",
          "grade": true,
          "grade_id": "cell-a73c1651fdcc110b",
          "locked": false,
          "points": 0,
          "schema_version": 3,
          "solution": true,
          "task": false
        },
        "id": "-1iNQFsw7Czj"
      },
      "outputs": [],
      "source": [
        "geno = geno_bdh2.replace({'B': 0, 'H': 1, 'D': 2, 'U': 1}, inplace=False)\n"
      ]
    },
    {
      "cell_type": "markdown",
      "metadata": {
        "id": "0nPXJQX07Czj"
      },
      "source": [
        "## Download coat color information from genenetworks.org\n",
        "\n",
        "Most mouse phenotype data is available at genenetwork.org. This includes nearly all published phenotype measurements. You can access individual measurements from that repository using the search mask:\n",
        "1. Go to http://gn2.genenetwork.org/\n",
        "2. In \"Select and Search\" fill in:\n",
        "    1. Species: Mouse\n",
        "    2. Group: BXD RI Family\n",
        "    3. Type: Phenotypes\n",
        "    4. Dataset: BXD Published Phenotypes\n",
        "3. Enter the trait of interest in the \"Get any\" field\n",
        "4. Search\n",
        "\n",
        "For getting data on the coat color of BXD mice use \"coat color\" as search term and select the Record __11280__ to get to the corresponding __Trait Data and Analysis__ page. There you can export the data as a CSV file."
      ]
    },
    {
      "cell_type": "markdown",
      "metadata": {
        "id": "9j18bGB_7Czj"
      },
      "source": [
        "## Load coat color data\n",
        "\n",
        "On the coat color data description page you saw that the colors had already been numerically encoded, so you don't have to convert it yourself. But keep an eye out for missing values and remove them if they exist. For future reference, the color encoding was:\n",
        "\n",
        "|color  | value  |\n",
        "|-------|--------|\n",
        "| black |  4     |\n",
        "| grey  |  3     |\n",
        "| brown |  2     |\n",
        "| dilute|  1     |"
      ]
    },
    {
      "cell_type": "code",
      "execution_count": 9,
      "metadata": {
        "deletable": false,
        "nbgrader": {
          "cell_type": "code",
          "checksum": "c78b1f5aa33794fe6ecad6566ce3c570",
          "grade": true,
          "grade_id": "cell-db4d2171aee058d5",
          "locked": false,
          "points": 0,
          "schema_version": 3,
          "solution": true,
          "task": false
        },
        "colab": {
          "base_uri": "https://localhost:8080/",
          "height": 363
        },
        "id": "urq0aiyQ7Czj",
        "outputId": "6b49d050-232f-47a9-8ab4-b8c192a574e5"
      },
      "outputs": [
        {
          "output_type": "execute_result",
          "data": {
            "text/plain": [
              "                 0                                                  1\n",
              "0    Phenotype ID:                                          BXD_11280\n",
              "1  Phenotype URL:   http://genenetwork.org/show_trait?trait_id=112...\n",
              "2          Group:                                                 BXD\n",
              "3      Phenotype:   Skin\",\" pigmentation: Hair coat color\",\" ordin...\n",
              "4        Authors:                                   Lu L, Williams RW\n",
              "5          Title:        Gene loci that are related to the coat color\n",
              "6        Journal:                                                 NaN\n",
              "7   Dataset Link:   http://gn1.genenetwork.org/webqtl/main.py?Form...\n",
              "8    Export Date:                                  September 28, 2022\n",
              "9    Export Time:                                           09:33 GMT"
            ],
            "text/html": [
              "\n",
              "  <div id=\"df-8d888ec9-4e44-4e11-9694-11ca126a84be\" class=\"colab-df-container\">\n",
              "    <div>\n",
              "<style scoped>\n",
              "    .dataframe tbody tr th:only-of-type {\n",
              "        vertical-align: middle;\n",
              "    }\n",
              "\n",
              "    .dataframe tbody tr th {\n",
              "        vertical-align: top;\n",
              "    }\n",
              "\n",
              "    .dataframe thead th {\n",
              "        text-align: right;\n",
              "    }\n",
              "</style>\n",
              "<table border=\"1\" class=\"dataframe\">\n",
              "  <thead>\n",
              "    <tr style=\"text-align: right;\">\n",
              "      <th></th>\n",
              "      <th>0</th>\n",
              "      <th>1</th>\n",
              "    </tr>\n",
              "  </thead>\n",
              "  <tbody>\n",
              "    <tr>\n",
              "      <th>0</th>\n",
              "      <td>Phenotype ID:</td>\n",
              "      <td>BXD_11280</td>\n",
              "    </tr>\n",
              "    <tr>\n",
              "      <th>1</th>\n",
              "      <td>Phenotype URL:</td>\n",
              "      <td>http://genenetwork.org/show_trait?trait_id=112...</td>\n",
              "    </tr>\n",
              "    <tr>\n",
              "      <th>2</th>\n",
              "      <td>Group:</td>\n",
              "      <td>BXD</td>\n",
              "    </tr>\n",
              "    <tr>\n",
              "      <th>3</th>\n",
              "      <td>Phenotype:</td>\n",
              "      <td>Skin\",\" pigmentation: Hair coat color\",\" ordin...</td>\n",
              "    </tr>\n",
              "    <tr>\n",
              "      <th>4</th>\n",
              "      <td>Authors:</td>\n",
              "      <td>Lu L, Williams RW</td>\n",
              "    </tr>\n",
              "    <tr>\n",
              "      <th>5</th>\n",
              "      <td>Title:</td>\n",
              "      <td>Gene loci that are related to the coat color</td>\n",
              "    </tr>\n",
              "    <tr>\n",
              "      <th>6</th>\n",
              "      <td>Journal:</td>\n",
              "      <td>NaN</td>\n",
              "    </tr>\n",
              "    <tr>\n",
              "      <th>7</th>\n",
              "      <td>Dataset Link:</td>\n",
              "      <td>http://gn1.genenetwork.org/webqtl/main.py?Form...</td>\n",
              "    </tr>\n",
              "    <tr>\n",
              "      <th>8</th>\n",
              "      <td>Export Date:</td>\n",
              "      <td>September 28, 2022</td>\n",
              "    </tr>\n",
              "    <tr>\n",
              "      <th>9</th>\n",
              "      <td>Export Time:</td>\n",
              "      <td>09:33 GMT</td>\n",
              "    </tr>\n",
              "  </tbody>\n",
              "</table>\n",
              "</div>\n",
              "    <div class=\"colab-df-buttons\">\n",
              "\n",
              "  <div class=\"colab-df-container\">\n",
              "    <button class=\"colab-df-convert\" onclick=\"convertToInteractive('df-8d888ec9-4e44-4e11-9694-11ca126a84be')\"\n",
              "            title=\"Convert this dataframe to an interactive table.\"\n",
              "            style=\"display:none;\">\n",
              "\n",
              "  <svg xmlns=\"http://www.w3.org/2000/svg\" height=\"24px\" viewBox=\"0 -960 960 960\">\n",
              "    <path d=\"M120-120v-720h720v720H120Zm60-500h600v-160H180v160Zm220 220h160v-160H400v160Zm0 220h160v-160H400v160ZM180-400h160v-160H180v160Zm440 0h160v-160H620v160ZM180-180h160v-160H180v160Zm440 0h160v-160H620v160Z\"/>\n",
              "  </svg>\n",
              "    </button>\n",
              "\n",
              "  <style>\n",
              "    .colab-df-container {\n",
              "      display:flex;\n",
              "      gap: 12px;\n",
              "    }\n",
              "\n",
              "    .colab-df-convert {\n",
              "      background-color: #E8F0FE;\n",
              "      border: none;\n",
              "      border-radius: 50%;\n",
              "      cursor: pointer;\n",
              "      display: none;\n",
              "      fill: #1967D2;\n",
              "      height: 32px;\n",
              "      padding: 0 0 0 0;\n",
              "      width: 32px;\n",
              "    }\n",
              "\n",
              "    .colab-df-convert:hover {\n",
              "      background-color: #E2EBFA;\n",
              "      box-shadow: 0px 1px 2px rgba(60, 64, 67, 0.3), 0px 1px 3px 1px rgba(60, 64, 67, 0.15);\n",
              "      fill: #174EA6;\n",
              "    }\n",
              "\n",
              "    .colab-df-buttons div {\n",
              "      margin-bottom: 4px;\n",
              "    }\n",
              "\n",
              "    [theme=dark] .colab-df-convert {\n",
              "      background-color: #3B4455;\n",
              "      fill: #D2E3FC;\n",
              "    }\n",
              "\n",
              "    [theme=dark] .colab-df-convert:hover {\n",
              "      background-color: #434B5C;\n",
              "      box-shadow: 0px 1px 3px 1px rgba(0, 0, 0, 0.15);\n",
              "      filter: drop-shadow(0px 1px 2px rgba(0, 0, 0, 0.3));\n",
              "      fill: #FFFFFF;\n",
              "    }\n",
              "  </style>\n",
              "\n",
              "    <script>\n",
              "      const buttonEl =\n",
              "        document.querySelector('#df-8d888ec9-4e44-4e11-9694-11ca126a84be button.colab-df-convert');\n",
              "      buttonEl.style.display =\n",
              "        google.colab.kernel.accessAllowed ? 'block' : 'none';\n",
              "\n",
              "      async function convertToInteractive(key) {\n",
              "        const element = document.querySelector('#df-8d888ec9-4e44-4e11-9694-11ca126a84be');\n",
              "        const dataTable =\n",
              "          await google.colab.kernel.invokeFunction('convertToInteractive',\n",
              "                                                    [key], {});\n",
              "        if (!dataTable) return;\n",
              "\n",
              "        const docLinkHtml = 'Like what you see? Visit the ' +\n",
              "          '<a target=\"_blank\" href=https://colab.research.google.com/notebooks/data_table.ipynb>data table notebook</a>'\n",
              "          + ' to learn more about interactive tables.';\n",
              "        element.innerHTML = '';\n",
              "        dataTable['output_type'] = 'display_data';\n",
              "        await google.colab.output.renderOutput(dataTable, element);\n",
              "        const docLink = document.createElement('div');\n",
              "        docLink.innerHTML = docLinkHtml;\n",
              "        element.appendChild(docLink);\n",
              "      }\n",
              "    </script>\n",
              "  </div>\n",
              "\n",
              "\n",
              "<div id=\"df-af2336fe-1696-4935-ab7b-f94050dd337a\">\n",
              "  <button class=\"colab-df-quickchart\" onclick=\"quickchart('df-af2336fe-1696-4935-ab7b-f94050dd337a')\"\n",
              "            title=\"Suggest charts\"\n",
              "            style=\"display:none;\">\n",
              "\n",
              "<svg xmlns=\"http://www.w3.org/2000/svg\" height=\"24px\"viewBox=\"0 0 24 24\"\n",
              "     width=\"24px\">\n",
              "    <g>\n",
              "        <path d=\"M19 3H5c-1.1 0-2 .9-2 2v14c0 1.1.9 2 2 2h14c1.1 0 2-.9 2-2V5c0-1.1-.9-2-2-2zM9 17H7v-7h2v7zm4 0h-2V7h2v10zm4 0h-2v-4h2v4z\"/>\n",
              "    </g>\n",
              "</svg>\n",
              "  </button>\n",
              "\n",
              "<style>\n",
              "  .colab-df-quickchart {\n",
              "      --bg-color: #E8F0FE;\n",
              "      --fill-color: #1967D2;\n",
              "      --hover-bg-color: #E2EBFA;\n",
              "      --hover-fill-color: #174EA6;\n",
              "      --disabled-fill-color: #AAA;\n",
              "      --disabled-bg-color: #DDD;\n",
              "  }\n",
              "\n",
              "  [theme=dark] .colab-df-quickchart {\n",
              "      --bg-color: #3B4455;\n",
              "      --fill-color: #D2E3FC;\n",
              "      --hover-bg-color: #434B5C;\n",
              "      --hover-fill-color: #FFFFFF;\n",
              "      --disabled-bg-color: #3B4455;\n",
              "      --disabled-fill-color: #666;\n",
              "  }\n",
              "\n",
              "  .colab-df-quickchart {\n",
              "    background-color: var(--bg-color);\n",
              "    border: none;\n",
              "    border-radius: 50%;\n",
              "    cursor: pointer;\n",
              "    display: none;\n",
              "    fill: var(--fill-color);\n",
              "    height: 32px;\n",
              "    padding: 0;\n",
              "    width: 32px;\n",
              "  }\n",
              "\n",
              "  .colab-df-quickchart:hover {\n",
              "    background-color: var(--hover-bg-color);\n",
              "    box-shadow: 0 1px 2px rgba(60, 64, 67, 0.3), 0 1px 3px 1px rgba(60, 64, 67, 0.15);\n",
              "    fill: var(--button-hover-fill-color);\n",
              "  }\n",
              "\n",
              "  .colab-df-quickchart-complete:disabled,\n",
              "  .colab-df-quickchart-complete:disabled:hover {\n",
              "    background-color: var(--disabled-bg-color);\n",
              "    fill: var(--disabled-fill-color);\n",
              "    box-shadow: none;\n",
              "  }\n",
              "\n",
              "  .colab-df-spinner {\n",
              "    border: 2px solid var(--fill-color);\n",
              "    border-color: transparent;\n",
              "    border-bottom-color: var(--fill-color);\n",
              "    animation:\n",
              "      spin 1s steps(1) infinite;\n",
              "  }\n",
              "\n",
              "  @keyframes spin {\n",
              "    0% {\n",
              "      border-color: transparent;\n",
              "      border-bottom-color: var(--fill-color);\n",
              "      border-left-color: var(--fill-color);\n",
              "    }\n",
              "    20% {\n",
              "      border-color: transparent;\n",
              "      border-left-color: var(--fill-color);\n",
              "      border-top-color: var(--fill-color);\n",
              "    }\n",
              "    30% {\n",
              "      border-color: transparent;\n",
              "      border-left-color: var(--fill-color);\n",
              "      border-top-color: var(--fill-color);\n",
              "      border-right-color: var(--fill-color);\n",
              "    }\n",
              "    40% {\n",
              "      border-color: transparent;\n",
              "      border-right-color: var(--fill-color);\n",
              "      border-top-color: var(--fill-color);\n",
              "    }\n",
              "    60% {\n",
              "      border-color: transparent;\n",
              "      border-right-color: var(--fill-color);\n",
              "    }\n",
              "    80% {\n",
              "      border-color: transparent;\n",
              "      border-right-color: var(--fill-color);\n",
              "      border-bottom-color: var(--fill-color);\n",
              "    }\n",
              "    90% {\n",
              "      border-color: transparent;\n",
              "      border-bottom-color: var(--fill-color);\n",
              "    }\n",
              "  }\n",
              "</style>\n",
              "\n",
              "  <script>\n",
              "    async function quickchart(key) {\n",
              "      const quickchartButtonEl =\n",
              "        document.querySelector('#' + key + ' button');\n",
              "      quickchartButtonEl.disabled = true;  // To prevent multiple clicks.\n",
              "      quickchartButtonEl.classList.add('colab-df-spinner');\n",
              "      try {\n",
              "        const charts = await google.colab.kernel.invokeFunction(\n",
              "            'suggestCharts', [key], {});\n",
              "      } catch (error) {\n",
              "        console.error('Error during call to suggestCharts:', error);\n",
              "      }\n",
              "      quickchartButtonEl.classList.remove('colab-df-spinner');\n",
              "      quickchartButtonEl.classList.add('colab-df-quickchart-complete');\n",
              "    }\n",
              "    (() => {\n",
              "      let quickchartButtonEl =\n",
              "        document.querySelector('#df-af2336fe-1696-4935-ab7b-f94050dd337a button');\n",
              "      quickchartButtonEl.style.display =\n",
              "        google.colab.kernel.accessAllowed ? 'block' : 'none';\n",
              "    })();\n",
              "  </script>\n",
              "</div>\n",
              "    </div>\n",
              "  </div>\n"
            ],
            "application/vnd.google.colaboratory.intrinsic+json": {
              "type": "dataframe",
              "variable_name": "genotype",
              "summary": "{\n  \"name\": \"genotype\",\n  \"rows\": 10,\n  \"fields\": [\n    {\n      \"column\": 0,\n      \"properties\": {\n        \"dtype\": \"string\",\n        \"num_unique_values\": 10,\n        \"samples\": [\n          \"Export Date: \",\n          \"Phenotype URL: \",\n          \"Title: \"\n        ],\n        \"semantic_type\": \"\",\n        \"description\": \"\"\n      }\n    },\n    {\n      \"column\": 1,\n      \"properties\": {\n        \"dtype\": \"string\",\n        \"num_unique_values\": 9,\n        \"samples\": [\n          \"September 28, 2022\",\n          \"http://genenetwork.org/show_trait?trait_id=11280&dataset=BXDPublish\",\n          \"Gene loci that are related to the coat color\"\n        ],\n        \"semantic_type\": \"\",\n        \"description\": \"\"\n      }\n    }\n  ]\n}"
            }
          },
          "metadata": {},
          "execution_count": 9
        }
      ],
      "source": [
        "#my version:  the downloaded file is different to the already provided, so...\n",
        "path=\"BXD_11280.csv\"\n",
        "genotype = pd.read_csv(path, header=None, na_values='x', on_bad_lines='skip')\n",
        "genotype"
      ]
    },
    {
      "cell_type": "code",
      "execution_count": 11,
      "metadata": {
        "id": "nhE1-EfB7Czk"
      },
      "outputs": [],
      "source": [
        "colors_df = pd.read_csv('coat_color.csv', header=None, na_values='x').dropna(axis=0)\n",
        "\n",
        "colors_df.columns = ['strain', 'color']\n",
        "colors_df.set_index('strain', inplace=True)\n",
        "colors = colors_df['color']"
      ]
    },
    {
      "cell_type": "markdown",
      "metadata": {
        "id": "6ay0fg8a7Czk"
      },
      "source": [
        "# Association tests between variants and categorical phenotype\n",
        "We will first start testing SNPs for their association with a *categorical* phenotype, coat color. It is known to be heritable, and therefore genetically determined to a large extent, so we'll try to find candidate genes that could be involved. The fist step is finding the right SNPs."
      ]
    },
    {
      "cell_type": "markdown",
      "metadata": {
        "id": "9hmE1-ds7Czk"
      },
      "source": [
        "## Task: Perfom association test for a single SNP using $\\chi^2$ test\n",
        "\n",
        "The chi2 test is a suitable test to detect association between two categorical random variables. It compares their observed combination counts with the combination counts that would be expected if there was no association between the two variables. The p-value calculated by the chi2 test is a measure of how likely it is for the expected and actual combination counts to differ as much as they do by mere chance."
      ]
    },
    {
      "cell_type": "markdown",
      "metadata": {
        "id": "GC9JLl8z7Czk"
      },
      "source": [
        "### Line up `geno` and `colors`\n",
        "\n",
        "We have genotype information for a set of mouse strains, and color information for a largely overlapping, but different set. We can only use those strains in the analysis that are present in both datasets. So we should first find their intersection, and slice both datasets accordingly.\n",
        "\n",
        "Before you do that though, notice that the strains C57BL/6J and DBA/2J (only present in the color dataset) are the original founders of the entire BXD strain family: C57BL/6J is B, and DBA/2J is D. Therefore you know their genotypes by definition: all B and all D on every locus. Insert them into `geno` accordingly.\n",
        "\n",
        "Furthermore, since the coat color DataFrame has just one column, it really should be a Series instead, as storing 1-dimensional data in a 2-dimensional data structure for no good reason is potential source of bugs. It's only a DataFrame in the first place is because `pd.read_csv` produces DataFrames regardless of the input file's shape. Slice the color DataFrame's only column and store it in the `colors` Series."
      ]
    },
    {
      "cell_type": "code",
      "execution_count": 12,
      "metadata": {
        "deletable": false,
        "nbgrader": {
          "cell_type": "code",
          "checksum": "fb0570bbd9c8f16c62d8219959e33021",
          "grade": true,
          "grade_id": "cell-fef0fd2d3e48c4bb",
          "locked": false,
          "points": 0,
          "schema_version": 3,
          "solution": true,
          "task": false
        },
        "colab": {
          "base_uri": "https://localhost:8080/"
        },
        "id": "_eR795t47Czk",
        "outputId": "dc755ad6-3a88-4948-ffec-84eee4ec7908"
      },
      "outputs": [
        {
          "output_type": "execute_result",
          "data": {
            "text/plain": [
              "C57BL/6J    4.0\n",
              "DBA/2J      1.0\n",
              "BXD1        1.0\n",
              "BXD2        4.0\n",
              "BXD5        3.0\n",
              "           ... \n",
              "BXD94       3.0\n",
              "BXD95       1.0\n",
              "BXD98       1.0\n",
              "BXD99       1.0\n",
              "BXD100      4.0\n",
              "Name: color, Length: 89, dtype: float64"
            ]
          },
          "metadata": {},
          "execution_count": 12
        }
      ],
      "source": [
        "geno[\"C57BL/6J\"] = 0 # \"D\"\n",
        "geno[\"DBA/2J\"] = 2 # \"B\"\n",
        "pd.Series(colors)\n",
        "overlap = colors.index.intersection(geno.columns)\n",
        "geno = geno.loc[:, overlap]\n",
        "colors = colors.loc[overlap]\n",
        "colors"
      ]
    },
    {
      "cell_type": "markdown",
      "metadata": {
        "id": "n47pL8hN7Czk"
      },
      "source": [
        "### Extract the genotype information for a single SNP\n",
        "Store it in the variable `one_geno`."
      ]
    },
    {
      "cell_type": "code",
      "execution_count": 13,
      "metadata": {
        "deletable": false,
        "nbgrader": {
          "cell_type": "code",
          "checksum": "092ff0a227db96ec696e659599272c13",
          "grade": true,
          "grade_id": "cell-5bdc3a448a9ac1ad",
          "locked": false,
          "points": 0,
          "schema_version": 3,
          "solution": true,
          "task": false
        },
        "colab": {
          "base_uri": "https://localhost:8080/"
        },
        "id": "W6gWWSbc7Czk",
        "outputId": "9d9b54b6-f58e-4bc3-8e40-45b29002a8dc"
      },
      "outputs": [
        {
          "output_type": "execute_result",
          "data": {
            "text/plain": [
              "C57BL/6J    0\n",
              "DBA/2J      2\n",
              "BXD1        0\n",
              "BXD2        0\n",
              "BXD5        2\n",
              "           ..\n",
              "BXD94       2\n",
              "BXD95       2\n",
              "BXD98       0\n",
              "BXD99       0\n",
              "BXD100      0\n",
              "Name: rs6269442, Length: 89, dtype: int64"
            ]
          },
          "metadata": {},
          "execution_count": 13
        }
      ],
      "source": [
        "one_geno = geno.iloc[0,:]\n",
        "one_geno"
      ]
    },
    {
      "cell_type": "markdown",
      "metadata": {
        "id": "dCiVFTls7Czk"
      },
      "source": [
        "### Plot relationship between genotye and phenotype\n",
        "You can use a scatter plot, but equal values will occlude each other, so you should add some jitter (small random noise). You can achieve this by generating random values in the same shape as your DataFrame, and adding it.\n",
        "\n",
        "You can also try a heatmap, but make sure your color range starts from zero."
      ]
    },
    {
      "cell_type": "code",
      "execution_count": 14,
      "metadata": {
        "id": "LDv38pJ57Czl"
      },
      "outputs": [],
      "source": [
        "jit1 = 0.1*np.random.random_sample(one_geno.shape) - 0.1\n",
        "jit2 = 0.3*np.random.random_sample(colors.shape) - 0.1\n",
        "new_fur = colors + jit2\n",
        "new_geno = one_geno + jit1\n",
        "\n"
      ]
    },
    {
      "cell_type": "code",
      "execution_count": 15,
      "metadata": {
        "deletable": false,
        "nbgrader": {
          "cell_type": "code",
          "checksum": "af2541744c530a1b897ca36001b41ece",
          "grade": true,
          "grade_id": "cell-3c9812392d3c93cf",
          "locked": false,
          "points": 0,
          "schema_version": 3,
          "solution": true,
          "task": false
        },
        "colab": {
          "base_uri": "https://localhost:8080/",
          "height": 449
        },
        "id": "ovDMow0h7Czl",
        "outputId": "f57a393a-b874-497c-f647-dbe346ad2b5b"
      },
      "outputs": [
        {
          "output_type": "display_data",
          "data": {
            "text/plain": [
              "<Figure size 640x480 with 1 Axes>"
            ],
            "image/png": "[encoded data removed]"
          },
          "metadata": {}
        }
      ],
      "source": [
        "\n",
        "plt.scatter(new_fur, new_geno)\n",
        "plt.xlabel(\"Color\")\n",
        "plt.ylabel(\"Genotype\")\n",
        "plt.xticks(np.arange(4)+1, ['dilute', 'brown', 'grey', 'black']);\n",
        "plt.yticks([0,1,2], ['B',\"H\", 'D']);\n",
        "plt.show()\n",
        "\n"
      ]
    },
    {
      "cell_type": "markdown",
      "metadata": {
        "id": "n9jQbZOz7Czl"
      },
      "source": [
        "We can not see much here and can not draw inforamtion out of it. MAybe the D has less points at black, indicating it has less often a black furr. But the representation is not optimal"
      ]
    },
    {
      "cell_type": "code",
      "execution_count": 16,
      "metadata": {
        "colab": {
          "base_uri": "https://localhost:8080/",
          "height": 452
        },
        "id": "OEZ82fQJ7Czl",
        "outputId": "7ccd4fe0-a29a-48f2-86b6-1d2a452984a5"
      },
      "outputs": [
        {
          "output_type": "execute_result",
          "data": {
            "text/plain": [
              "<Axes: >"
            ]
          },
          "metadata": {},
          "execution_count": 16
        },
        {
          "output_type": "display_data",
          "data": {
            "text/plain": [
              "<Figure size 640x480 with 2 Axes>"
            ],
            "image/png": "[encoded data removed]"
          },
          "metadata": {}
        }
      ],
      "source": [
        "heatplot = pd.concat([new_fur, new_geno], axis=1)\n",
        "sns.heatmap(heatplot, vmin = 0)"
      ]
    },
    {
      "cell_type": "markdown",
      "metadata": {
        "id": "XHqD8wss7Czl"
      },
      "source": [
        "### Create a contingency table for a D-dominant inheritance model of black coat color for your SNP\n",
        "\n",
        "What does D-dominant mean here, how should you treat the heterozygous genotype? Think about the individual cells of the contingency matrix: it has a 2x2 shape, but you have 3 kinds of genotypes and 4 kinds of colors. How should you collapse your data to binary labels?\n",
        "\n",
        "Tip: Pandas' `crosstab` functionality may be helpful for you."
      ]
    },
    {
      "cell_type": "markdown",
      "metadata": {
        "id": "VuepD7NZ7Czl"
      },
      "source": [
        "D-dominant means we only look at D. So  we have D and not D, black or not black. We only look at D dominant strains and the color black,"
      ]
    },
    {
      "cell_type": "code",
      "execution_count": 17,
      "metadata": {
        "deletable": false,
        "nbgrader": {
          "cell_type": "code",
          "checksum": "eabdfcef20eaee44a5ccfebf1993974b",
          "grade": true,
          "grade_id": "cell-97d6e995ec989029",
          "locked": false,
          "points": 0,
          "schema_version": 3,
          "solution": true,
          "task": false
        },
        "colab": {
          "base_uri": "https://localhost:8080/",
          "height": 143
        },
        "id": "F41IM1DU7Czl",
        "outputId": "ad2253d1-d73b-434a-f6e5-7a77ca2e4dec"
      },
      "outputs": [
        {
          "output_type": "execute_result",
          "data": {
            "text/plain": [
              "color      False  True \n",
              "rs6269442              \n",
              "False          4     38\n",
              "True          16     31"
            ],
            "text/html": [
              "\n",
              "  <div id=\"df-f8ee49ea-3858-429c-afa7-23c074f70914\" class=\"colab-df-container\">\n",
              "    <div>\n",
              "<style scoped>\n",
              "    .dataframe tbody tr th:only-of-type {\n",
              "        vertical-align: middle;\n",
              "    }\n",
              "\n",
              "    .dataframe tbody tr th {\n",
              "        vertical-align: top;\n",
              "    }\n",
              "\n",
              "    .dataframe thead th {\n",
              "        text-align: right;\n",
              "    }\n",
              "</style>\n",
              "<table border=\"1\" class=\"dataframe\">\n",
              "  <thead>\n",
              "    <tr style=\"text-align: right;\">\n",
              "      <th>color</th>\n",
              "      <th>False</th>\n",
              "      <th>True</th>\n",
              "    </tr>\n",
              "    <tr>\n",
              "      <th>rs6269442</th>\n",
              "      <th></th>\n",
              "      <th></th>\n",
              "    </tr>\n",
              "  </thead>\n",
              "  <tbody>\n",
              "    <tr>\n",
              "      <th>False</th>\n",
              "      <td>4</td>\n",
              "      <td>38</td>\n",
              "    </tr>\n",
              "    <tr>\n",
              "      <th>True</th>\n",
              "      <td>16</td>\n",
              "      <td>31</td>\n",
              "    </tr>\n",
              "  </tbody>\n",
              "</table>\n",
              "</div>\n",
              "    <div class=\"colab-df-buttons\">\n",
              "\n",
              "  <div class=\"colab-df-container\">\n",
              "    <button class=\"colab-df-convert\" onclick=\"convertToInteractive('df-f8ee49ea-3858-429c-afa7-23c074f70914')\"\n",
              "            title=\"Convert this dataframe to an interactive table.\"\n",
              "            style=\"display:none;\">\n",
              "\n",
              "  <svg xmlns=\"http://www.w3.org/2000/svg\" height=\"24px\" viewBox=\"0 -960 960 960\">\n",
              "    <path d=\"M120-120v-720h720v720H120Zm60-500h600v-160H180v160Zm220 220h160v-160H400v160Zm0 220h160v-160H400v160ZM180-400h160v-160H180v160Zm440 0h160v-160H620v160ZM180-180h160v-160H180v160Zm440 0h160v-160H620v160Z\"/>\n",
              "  </svg>\n",
              "    </button>\n",
              "\n",
              "  <style>\n",
              "    .colab-df-container {\n",
              "      display:flex;\n",
              "      gap: 12px;\n",
              "    }\n",
              "\n",
              "    .colab-df-convert {\n",
              "      background-color: #E8F0FE;\n",
              "      border: none;\n",
              "      border-radius: 50%;\n",
              "      cursor: pointer;\n",
              "      display: none;\n",
              "      fill: #1967D2;\n",
              "      height: 32px;\n",
              "      padding: 0 0 0 0;\n",
              "      width: 32px;\n",
              "    }\n",
              "\n",
              "    .colab-df-convert:hover {\n",
              "      background-color: #E2EBFA;\n",
              "      box-shadow: 0px 1px 2px rgba(60, 64, 67, 0.3), 0px 1px 3px 1px rgba(60, 64, 67, 0.15);\n",
              "      fill: #174EA6;\n",
              "    }\n",
              "\n",
              "    .colab-df-buttons div {\n",
              "      margin-bottom: 4px;\n",
              "    }\n",
              "\n",
              "    [theme=dark] .colab-df-convert {\n",
              "      background-color: #3B4455;\n",
              "      fill: #D2E3FC;\n",
              "    }\n",
              "\n",
              "    [theme=dark] .colab-df-convert:hover {\n",
              "      background-color: #434B5C;\n",
              "      box-shadow: 0px 1px 3px 1px rgba(0, 0, 0, 0.15);\n",
              "      filter: drop-shadow(0px 1px 2px rgba(0, 0, 0, 0.3));\n",
              "      fill: #FFFFFF;\n",
              "    }\n",
              "  </style>\n",
              "\n",
              "    <script>\n",
              "      const buttonEl =\n",
              "        document.querySelector('#df-f8ee49ea-3858-429c-afa7-23c074f70914 button.colab-df-convert');\n",
              "      buttonEl.style.display =\n",
              "        google.colab.kernel.accessAllowed ? 'block' : 'none';\n",
              "\n",
              "      async function convertToInteractive(key) {\n",
              "        const element = document.querySelector('#df-f8ee49ea-3858-429c-afa7-23c074f70914');\n",
              "        const dataTable =\n",
              "          await google.colab.kernel.invokeFunction('convertToInteractive',\n",
              "                                                    [key], {});\n",
              "        if (!dataTable) return;\n",
              "\n",
              "        const docLinkHtml = 'Like what you see? Visit the ' +\n",
              "          '<a target=\"_blank\" href=https://colab.research.google.com/notebooks/data_table.ipynb>data table notebook</a>'\n",
              "          + ' to learn more about interactive tables.';\n",
              "        element.innerHTML = '';\n",
              "        dataTable['output_type'] = 'display_data';\n",
              "        await google.colab.output.renderOutput(dataTable, element);\n",
              "        const docLink = document.createElement('div');\n",
              "        docLink.innerHTML = docLinkHtml;\n",
              "        element.appendChild(docLink);\n",
              "      }\n",
              "    </script>\n",
              "  </div>\n",
              "\n",
              "\n",
              "<div id=\"df-356052f4-eedd-4e10-8f58-75a09a14e26c\">\n",
              "  <button class=\"colab-df-quickchart\" onclick=\"quickchart('df-356052f4-eedd-4e10-8f58-75a09a14e26c')\"\n",
              "            title=\"Suggest charts\"\n",
              "            style=\"display:none;\">\n",
              "\n",
              "<svg xmlns=\"http://www.w3.org/2000/svg\" height=\"24px\"viewBox=\"0 0 24 24\"\n",
              "     width=\"24px\">\n",
              "    <g>\n",
              "        <path d=\"M19 3H5c-1.1 0-2 .9-2 2v14c0 1.1.9 2 2 2h14c1.1 0 2-.9 2-2V5c0-1.1-.9-2-2-2zM9 17H7v-7h2v7zm4 0h-2V7h2v10zm4 0h-2v-4h2v4z\"/>\n",
              "    </g>\n",
              "</svg>\n",
              "  </button>\n",
              "\n",
              "<style>\n",
              "  .colab-df-quickchart {\n",
              "      --bg-color: #E8F0FE;\n",
              "      --fill-color: #1967D2;\n",
              "      --hover-bg-color: #E2EBFA;\n",
              "      --hover-fill-color: #174EA6;\n",
              "      --disabled-fill-color: #AAA;\n",
              "      --disabled-bg-color: #DDD;\n",
              "  }\n",
              "\n",
              "  [theme=dark] .colab-df-quickchart {\n",
              "      --bg-color: #3B4455;\n",
              "      --fill-color: #D2E3FC;\n",
              "      --hover-bg-color: #434B5C;\n",
              "      --hover-fill-color: #FFFFFF;\n",
              "      --disabled-bg-color: #3B4455;\n",
              "      --disabled-fill-color: #666;\n",
              "  }\n",
              "\n",
              "  .colab-df-quickchart {\n",
              "    background-color: var(--bg-color);\n",
              "    border: none;\n",
              "    border-radius: 50%;\n",
              "    cursor: pointer;\n",
              "    display: none;\n",
              "    fill: var(--fill-color);\n",
              "    height: 32px;\n",
              "    padding: 0;\n",
              "    width: 32px;\n",
              "  }\n",
              "\n",
              "  .colab-df-quickchart:hover {\n",
              "    background-color: var(--hover-bg-color);\n",
              "    box-shadow: 0 1px 2px rgba(60, 64, 67, 0.3), 0 1px 3px 1px rgba(60, 64, 67, 0.15);\n",
              "    fill: var(--button-hover-fill-color);\n",
              "  }\n",
              "\n",
              "  .colab-df-quickchart-complete:disabled,\n",
              "  .colab-df-quickchart-complete:disabled:hover {\n",
              "    background-color: var(--disabled-bg-color);\n",
              "    fill: var(--disabled-fill-color);\n",
              "    box-shadow: none;\n",
              "  }\n",
              "\n",
              "  .colab-df-spinner {\n",
              "    border: 2px solid var(--fill-color);\n",
              "    border-color: transparent;\n",
              "    border-bottom-color: var(--fill-color);\n",
              "    animation:\n",
              "      spin 1s steps(1) infinite;\n",
              "  }\n",
              "\n",
              "  @keyframes spin {\n",
              "    0% {\n",
              "      border-color: transparent;\n",
              "      border-bottom-color: var(--fill-color);\n",
              "      border-left-color: var(--fill-color);\n",
              "    }\n",
              "    20% {\n",
              "      border-color: transparent;\n",
              "      border-left-color: var(--fill-color);\n",
              "      border-top-color: var(--fill-color);\n",
              "    }\n",
              "    30% {\n",
              "      border-color: transparent;\n",
              "      border-left-color: var(--fill-color);\n",
              "      border-top-color: var(--fill-color);\n",
              "      border-right-color: var(--fill-color);\n",
              "    }\n",
              "    40% {\n",
              "      border-color: transparent;\n",
              "      border-right-color: var(--fill-color);\n",
              "      border-top-color: var(--fill-color);\n",
              "    }\n",
              "    60% {\n",
              "      border-color: transparent;\n",
              "      border-right-color: var(--fill-color);\n",
              "    }\n",
              "    80% {\n",
              "      border-color: transparent;\n",
              "      border-right-color: var(--fill-color);\n",
              "      border-bottom-color: var(--fill-color);\n",
              "    }\n",
              "    90% {\n",
              "      border-color: transparent;\n",
              "      border-bottom-color: var(--fill-color);\n",
              "    }\n",
              "  }\n",
              "</style>\n",
              "\n",
              "  <script>\n",
              "    async function quickchart(key) {\n",
              "      const quickchartButtonEl =\n",
              "        document.querySelector('#' + key + ' button');\n",
              "      quickchartButtonEl.disabled = true;  // To prevent multiple clicks.\n",
              "      quickchartButtonEl.classList.add('colab-df-spinner');\n",
              "      try {\n",
              "        const charts = await google.colab.kernel.invokeFunction(\n",
              "            'suggestCharts', [key], {});\n",
              "      } catch (error) {\n",
              "        console.error('Error during call to suggestCharts:', error);\n",
              "      }\n",
              "      quickchartButtonEl.classList.remove('colab-df-spinner');\n",
              "      quickchartButtonEl.classList.add('colab-df-quickchart-complete');\n",
              "    }\n",
              "    (() => {\n",
              "      let quickchartButtonEl =\n",
              "        document.querySelector('#df-356052f4-eedd-4e10-8f58-75a09a14e26c button');\n",
              "      quickchartButtonEl.style.display =\n",
              "        google.colab.kernel.accessAllowed ? 'block' : 'none';\n",
              "    })();\n",
              "  </script>\n",
              "</div>\n",
              "    </div>\n",
              "  </div>\n"
            ],
            "application/vnd.google.colaboratory.intrinsic+json": {
              "type": "dataframe",
              "variable_name": "crosstab",
              "summary": "{\n  \"name\": \"crosstab\",\n  \"rows\": 2,\n  \"fields\": [\n    {\n      \"column\": false,\n      \"properties\": {\n        \"dtype\": \"number\",\n        \"std\": 8,\n        \"min\": 4,\n        \"max\": 16,\n        \"num_unique_values\": 2,\n        \"samples\": [\n          16,\n          4\n        ],\n        \"semantic_type\": \"\",\n        \"description\": \"\"\n      }\n    },\n    {\n      \"column\": true,\n      \"properties\": {\n        \"dtype\": \"number\",\n        \"std\": 4,\n        \"min\": 31,\n        \"max\": 38,\n        \"num_unique_values\": 2,\n        \"samples\": [\n          31,\n          38\n        ],\n        \"semantic_type\": \"\",\n        \"description\": \"\"\n      }\n    }\n  ]\n}"
            }
          },
          "metadata": {},
          "execution_count": 17
        }
      ],
      "source": [
        "crosstab = pd.crosstab((one_geno == 0), (colors < 4)) #colors 4 black, geno 0 D , 2 B, 1 H. So\n",
        "crosstab"
      ]
    },
    {
      "cell_type": "markdown",
      "metadata": {
        "id": "yMtJ0ExC7Czl"
      },
      "source": [
        "### Perform a $\\chi^2$ square test for independence on the contingency table\n",
        "\n",
        "Find a suitable method in `scipy.stats` and read its documentation to understand what the returned values are. How can you access the test's p-value?"
      ]
    },
    {
      "cell_type": "markdown",
      "metadata": {
        "id": "08KkK8Mw7Czl"
      },
      "source": [
        "Describe the scipy.stats.chi2_contingency function!"
      ]
    },
    {
      "cell_type": "code",
      "execution_count": 18,
      "metadata": {
        "deletable": false,
        "nbgrader": {
          "cell_type": "code",
          "checksum": "90e6e744d5bc5fa3112e5969ecccaaec",
          "grade": true,
          "grade_id": "cell-27331a8b9154f386",
          "locked": false,
          "points": 0,
          "schema_version": 3,
          "solution": true,
          "task": false
        },
        "colab": {
          "base_uri": "https://localhost:8080/"
        },
        "id": "ZtsWVL4i7Czl",
        "outputId": "56f43b94-1614-4aad-d996-8adac0204a05"
      },
      "outputs": [
        {
          "output_type": "execute_result",
          "data": {
            "text/plain": [
              "0.01200075172875716"
            ]
          },
          "metadata": {},
          "execution_count": 18
        }
      ],
      "source": [
        "statistic, pvalue, dof, expected_freq = scipy.stats.chi2_contingency(crosstab)\n",
        "pvalue"
      ]
    },
    {
      "cell_type": "markdown",
      "metadata": {
        "id": "3DH46eJc7Czm"
      },
      "source": [
        "## Sidenote: penetrance models instead of dominance models\n",
        "\n",
        "We have just used a D-dominant model with a 2x2 contingency table and performed a $\\chi^2$ test with the smallest possible degrees of freedom (1). We assumed that a heterozygous genotype behaves the same way as a homozygous D genotype does.\n",
        "\n",
        "It is sometimes useful to consider the full complexity of a genotype considering all three possible genotypes instead of just two. We could have used a $\\chi^2$ test  with a 3x2 contingency table, and thus 2 degrees of freedom, but a more popular choice for such models is the Cochran–Armitage trend test, which usually has larger statistical power. In this case, the \"penetrance\" of the D allele is assumed to be additive: two alleles makes it twice as likely to exhibit the trait than one.\n",
        "\n",
        "You can read more about basic statistical approaches in genetic association tests in the following paper:\n",
        "\n",
        "__G. Clarke et al.       \n",
        "[Basic statistical analysis in genetic case-control studies](http://www.nature.com/nprot/journal/v6/n2/full/nprot.2010.182.html)__,      \n",
        "Nat. Protocols, 2011/02,     \n",
        "http://dx.doi.org/10.1038/nprot.2010.182\n",
        "<br>\n",
        "<br>\n",
        "\n",
        "For this task, you don't have to write code, just answer this one question: Would it make practical sense to use such a model with our data? Why?"
      ]
    },
    {
      "cell_type": "markdown",
      "metadata": {
        "deletable": false,
        "editable": true,
        "nbgrader": {
          "cell_type": "markdown",
          "checksum": "4b6c2cfbf49da4422164921778716148",
          "grade": true,
          "grade_id": "cell-4e122be312ba8127",
          "locked": false,
          "points": 0,
          "schema_version": 3,
          "solution": true,
          "task": false
        },
        "tags": [],
        "id": "_woRjqOZ7Czm"
      },
      "source": [
        "The proportion of genotypes that actually show expected phenotypes is called penetrance. For example, say everyone in population W carries the same allele combinations for a certain trait, yet only 85% of the population actually shows the phenotype expected from those allele combinations. In this case, the penetrance is 85% and thus incomplete.\n",
        "In contrast, the fur colour of mice is inherited dominantly and we thus expect a complete penetrance of the dominant phenotype in heterozygous mice. Thus, using a higher degree of freedom and assuming additive penetrance is not practical in our case. We can simplify the model to account for the complete penetrance of fur colour."
      ]
    },
    {
      "cell_type": "markdown",
      "metadata": {
        "id": "kAgPYvDb7Czm"
      },
      "source": [
        "## Refactor the previous analysis steps into a function and apply to all SNPs\n",
        "\n",
        "Try to do it without writing any `for` loops. Use the built-in iterating functionality that pandas provides with the `apply` method.\n",
        "\n",
        "If you are ahead of schedule, you could try to come up with a faster approach. Doing 3811 cross-tabulations from scratch might be a bit wasteful, since the coat color labels are constant in every iteration. It is possible to calculate all 3811 contingency table values with a few simple operations, and therefore run all chi2 tests in a matter of seconds instead of a minute.\n",
        "\n",
        "But speed doesn't really matter for us now. Whichever way you do it, answer the following question:\n",
        "\n",
        "How many SNPs are associated with coat color at a p<0.05 significance threshold?"
      ]
    },
    {
      "cell_type": "code",
      "execution_count": 19,
      "metadata": {
        "deletable": false,
        "nbgrader": {
          "cell_type": "code",
          "checksum": "d5eea640514b40a22d3bfb918c3c9d01",
          "grade": true,
          "grade_id": "cell-081199dda6ceba72",
          "locked": false,
          "points": 0,
          "schema_version": 3,
          "solution": true,
          "task": false
        },
        "colab": {
          "base_uri": "https://localhost:8080/"
        },
        "id": "F_ZpsFDt7Czm",
        "outputId": "ea649689-d02d-4fd1-88a9-b7cdb60489bc"
      },
      "outputs": [
        {
          "output_type": "stream",
          "name": "stdout",
          "text": [
            "253 SNPs are associated with coat color at a p<0.05 significance threshold\n"
          ]
        }
      ],
      "source": [
        "def chi2_all(one_geno, colors):\n",
        "    p = scipy.stats.chi2_contingency(pd.crosstab((one_geno == 0), (colors < 4)))[1]\n",
        "    return p\n",
        "\n",
        "ps = geno.apply(chi2_all, colors=colors, axis=1)\n",
        "counts = (ps < 0.05).sum()\n",
        "print(str(counts) + \" SNPs are associated with coat color at a p<0.05 significance threshold\")"
      ]
    },
    {
      "cell_type": "markdown",
      "metadata": {
        "id": "HjIx54y67Czn"
      },
      "source": [
        "### Add the p-values to the SNP metadata (`geno_meta`) DataFrame\n",
        "\n",
        "Insert them as a new column called `p_raw`."
      ]
    },
    {
      "cell_type": "code",
      "execution_count": 20,
      "metadata": {
        "deletable": false,
        "nbgrader": {
          "cell_type": "code",
          "checksum": "d68949e9c743502ba5e0f57da28ba413",
          "grade": true,
          "grade_id": "cell-41b1875b081694cb",
          "locked": false,
          "points": 0,
          "schema_version": 3,
          "solution": true,
          "task": false
        },
        "id": "XOdkdFYS7Czn"
      },
      "outputs": [],
      "source": [
        "geno_meta[\"p_raw\"] = ps"
      ]
    },
    {
      "cell_type": "markdown",
      "metadata": {
        "editable": true,
        "tags": [],
        "id": "rXcfXfkT7Czn"
      },
      "source": [
        "### Create a Manhattan Plot of  $-\\log_{10}(\\text{P-value})$ vs chromosome position\n",
        "A Manhattan plot, named after its resemblance to the skyline of Manhattan, is commonly used to plot the p-values of SNP association tests against their genomic position.\n",
        "\n",
        "Technically, it's a scatter plot of genome position vs the negative base-10 logarithm of the p-value (~how many zeroes does the p-value begin with). Try to recreate something like the plot below. It doesn't have to be an exact match, but at least the chromosomes should be distinguishable.\n",
        "\n",
        "Think about how to convert chromosome number + Mb position within the chromosome into a single absolute position on the x-axis.\n",
        "\n",
        "Hints: you can iterate over a pandas `groupby` object, so you can plot p-values chromosome-by-chromosome. This would mean 20 successive plotting calls in a `for` loop, which is perfectly fine.\n",
        "\n",
        "Watch out: the `Chr` column may look numeric, but it is in fact a string column due to the `X` chromosome. If you don't want them to be sorted as strings (1, 10, 11, ..., 19, 2, 3, 4) you can prevent it by passing `sort=False` to the `geno_meta.groupby(...)` method as a keyword argument. <<< CHANGED TEXT HERE\n",
        "\n",
        "![image.png](attachment:06d097a5-4ace-4dc3-9446-9c4e74a663e8.png)"
      ]
    },
    {
      "cell_type": "code",
      "execution_count": 21,
      "metadata": {
        "colab": {
          "base_uri": "https://localhost:8080/",
          "height": 564
        },
        "id": "BGx7CN6a7Czs",
        "outputId": "abe61cd0-e9c8-46d4-e4af-aff7104c7e5c"
      },
      "outputs": [
        {
          "output_type": "display_data",
          "data": {
            "text/plain": [
              "<Figure size 1300x600 with 1 Axes>"
            ],
            "image/png": "[encoded data removed]"
          },
          "metadata": {}
        }
      ],
      "source": [
        "from matplotlib.pyplot import cm\n",
        "\n",
        "chr_mapping = {str(i): i for i in range(1, 20)}\n",
        "chr_mapping['X'] = 20\n",
        "geno_meta['CHR_numeric'] = geno_meta['Chr'].map(chr_mapping)\n",
        "\n",
        "geno_meta_sorted = geno_meta.sort_values(by=['CHR_numeric', 'Mb'])\n",
        "\n",
        "absolute_positions = []\n",
        "cumulative_length = 0\n",
        "for chr_group, group_df in geno_meta_sorted.groupby('CHR_numeric', sort=False):\n",
        "    absolute_positions.extend(group_df['Mb'] + cumulative_length)\n",
        "    cumulative_length += group_df['Mb'].max()\n",
        "\n",
        "geno_meta_sorted['Absolute_Position'] = absolute_positions\n",
        "ps = geno_meta.shape[0]\n",
        "plt.figure(figsize=(13, 6))\n",
        "ax = plt.axes()\n",
        "ax.set_facecolor(\"white\")\n",
        "\n",
        "chromosome_boundaries = geno_meta_sorted.groupby('CHR_numeric')['Absolute_Position'].max()\n",
        "for i in range(1, len(chromosome_boundaries), 2):\n",
        "    plt.axvspan(chromosome_boundaries[i], chromosome_boundaries[i+1], color=\"lightgrey\", alpha=0.5)\n",
        "\n",
        "color = cm.rainbow(np.linspace(0, 1, ps))\n",
        "plt.scatter(geno_meta_sorted['Absolute_Position'], -np.log10(geno_meta_sorted['p_raw']), c=color)\n",
        "plt.xlim([0, geno_meta_sorted[\"Absolute_Position\"].iloc[-1]])\n",
        "\n",
        "plt.xlabel('Chromosome')\n",
        "plt.ylabel('-log10(p-value)')\n",
        "plt.title('Manhattan Plot')\n",
        "plt.xticks(chromosome_boundaries, np.array(list(set(geno_meta['CHR_numeric']))))\n",
        "\n",
        "plt.show()"
      ]
    },
    {
      "cell_type": "markdown",
      "metadata": {
        "deletable": false,
        "editable": true,
        "nbgrader": {
          "cell_type": "code",
          "checksum": "0315461f45a86093dda231f3e14bc44d",
          "grade": true,
          "grade_id": "cell-fad9ef5d9406eaca",
          "locked": false,
          "points": 0,
          "schema_version": 3,
          "solution": true,
          "task": false
        },
        "tags": [],
        "id": "Dl7P_ajd7Czt"
      },
      "source": []
    },
    {
      "cell_type": "markdown",
      "metadata": {
        "id": "_b3g-PkH7Czt"
      },
      "source": [
        "## Task: Correction for Multiple Hypothesis Testing\n",
        "\n",
        "### Preliminary task: p-value histograms\n",
        "\n",
        "Plot a histogram of all the p-values that you got from the $\\chi^2$ tests. Generate the same amount of random uniformly distributed values between [0,1], and put them on the same histogram for a baseline comparison. (Remember, a chi2 test, or any well-calibrated statistical test would always produce a uniform distribution if there was no association between two random variables.)\n",
        "\n",
        "Will any of our p-values survive multiple testing correction in your opinion? If so, guess how many! If necessary, increase the number of bins to capture the differences between the two histograms near p=0."
      ]
    },
    {
      "cell_type": "code",
      "execution_count": 22,
      "metadata": {
        "deletable": false,
        "nbgrader": {
          "cell_type": "code",
          "checksum": "c250e5baa91e15eb8791c0baaff26c98",
          "grade": true,
          "grade_id": "cell-f38adb8301899db2",
          "locked": false,
          "points": 0,
          "schema_version": 3,
          "solution": true,
          "task": false
        },
        "colab": {
          "base_uri": "https://localhost:8080/",
          "height": 465
        },
        "id": "7iS1f9zS7Czt",
        "outputId": "cf875282-433c-4e1a-d971-dbdbb6026c32"
      },
      "outputs": [
        {
          "output_type": "display_data",
          "data": {
            "text/plain": [
              "<Figure size 800x500 with 1 Axes>"
            ],
            "image/png": "[encoded data removed]"
          },
          "metadata": {}
        }
      ],
      "source": [
        "uniform_rand = np.random.uniform(size=len(geno_meta))\n",
        "fig = plt.figure(figsize=(8,5))\n",
        "plt.hist(geno_meta['p_raw'], alpha=.5, label='p values', bins=40)\n",
        "plt.hist(uniform_rand, alpha=.5, label='random uniform', bins=40)\n",
        "plt.xlabel('p value')\n",
        "plt.ylabel('frequency')\n",
        "plt.vlines(0.05, 0, 700, color='black', linestyle='--')\n",
        "plt.legend();"
      ]
    },
    {
      "cell_type": "markdown",
      "metadata": {
        "id": "6Y4P93WT7Czt"
      },
      "source": [
        "The black dotted line represents our significant threshold 0.05. Since we know that the BH correction equally distributes the values we can estimate the number of remaining SNPs by looking at the blue area in the plot between 0 and 0.05 that is not overlapped by the orange uniform distribution. With this we estimate that approximately 100 SNPs will remain significant after correction."
      ]
    },
    {
      "cell_type": "markdown",
      "metadata": {
        "id": "YvzlZhHJ7Czt"
      },
      "source": [
        "### Use the Benjamini-Hochberg correction method to take care of the multiple hypothesis testing problem\n",
        "\n",
        "Insert the B-H corrected p-values into the locus information DataFrame `geno_meta` as a new column named `p_bh`.\n",
        "\n",
        "After the Benjamini-Hochberg correction, how many SNPs stayed significantly associated with coat color at the p<0.05 level? Compare this number with your earlier guess based on the raw p-value histogram. (And perhaps ponder: have we *really* tested 3811 different association hypotheses?)"
      ]
    },
    {
      "cell_type": "code",
      "execution_count": null,
      "metadata": {
        "id": "mZsv_v157Czt"
      },
      "outputs": [],
      "source": []
    },
    {
      "cell_type": "code",
      "execution_count": 23,
      "metadata": {
        "colab": {
          "base_uri": "https://localhost:8080/"
        },
        "id": "vOUeH_rM7Czt",
        "outputId": "cd38b7a2-7ef2-4bd2-df49-7332ea5bde16"
      },
      "outputs": [
        {
          "output_type": "stream",
          "name": "stdout",
          "text": [
            "After BH correction, 89 SNPs are associated with black coat color\n"
          ]
        }
      ],
      "source": [
        "from statsmodels.stats.multitest import multipletests\n",
        "rejected, corrected_p_values, _, _ = multipletests(geno_meta['p_raw'], method='fdr_bh')\n",
        "geno_meta['p_bh']= corrected_p_values\n",
        "results_df = pd.DataFrame({\n",
        "    'Original p-values': geno_meta['p_raw'],\n",
        "    'Corrected p-values (BH)': corrected_p_values,\n",
        "    'Rejected': rejected\n",
        "})\n",
        "n_rejected = results_df['Rejected'].sum()\n",
        "print(f'After BH correction, {n_rejected} SNPs are associated with black coat color')"
      ]
    },
    {
      "cell_type": "code",
      "execution_count": 24,
      "metadata": {
        "deletable": false,
        "nbgrader": {
          "cell_type": "code",
          "checksum": "5eb8ff1603987177a34b8d06aa7a27b4",
          "grade": true,
          "grade_id": "cell-9690b29a8a1d0780",
          "locked": false,
          "points": 0,
          "schema_version": 3,
          "solution": true,
          "task": false
        },
        "colab": {
          "base_uri": "https://localhost:8080/",
          "height": 430
        },
        "id": "xf-ffYb67Czu",
        "outputId": "fc85b589-f0fb-45fe-ce26-8c2d52ebc59a"
      },
      "outputs": [
        {
          "output_type": "display_data",
          "data": {
            "text/plain": [
              "<Figure size 640x480 with 1 Axes>"
            ],
            "image/png": "[encoded data removed]"
          },
          "metadata": {}
        }
      ],
      "source": [
        "plt.hist(geno_meta['p_bh'], bins=40)\n",
        "plt.hist(np.linspace(0, 1, len(geno_meta)), bins=40, alpha=0.4)\n",
        "plt.yscale('log')"
      ]
    },
    {
      "cell_type": "markdown",
      "metadata": {
        "id": "vybU6eKt7Czu"
      },
      "source": [
        "### Plot a histogram of the corrected p-values\n",
        "\n",
        "Compare it with the original histogram of raw p-values. Does it match your expectations?\n",
        "\n",
        "If you want, you can also try to recreate the Manhattan plot with the corrected p-values this time."
      ]
    },
    {
      "cell_type": "markdown",
      "metadata": {
        "id": "hA-iMnhV7Czu"
      },
      "source": [
        "The histogram of the corrected p-values does match the expectation: the very evenly distributed raw p-values shifted after the correction to a much mor uneven distribution: there are very few significant corrected p-values and a lot of corrected p-values that have a very high value."
      ]
    },
    {
      "cell_type": "code",
      "execution_count": 25,
      "metadata": {
        "colab": {
          "base_uri": "https://localhost:8080/",
          "height": 465
        },
        "id": "8QI8_s0Y7Czu",
        "outputId": "0029085d-f394-4fe9-f990-cfe385531cb7"
      },
      "outputs": [
        {
          "output_type": "display_data",
          "data": {
            "text/plain": [
              "<Figure size 800x500 with 1 Axes>"
            ],
            "image/png": "[encoded data removed]"
          },
          "metadata": {}
        }
      ],
      "source": [
        "fig = plt.figure(figsize=(8,5))\n",
        "plt.hist(geno_meta['p_raw'], alpha=.5, label='p values', bins=40)\n",
        "plt.hist(results_df['Corrected p-values (BH)'], alpha=.5, label='corrected p values', bins=40)\n",
        "plt.vlines(0.05, 0, 700, color='black', linestyle='--')\n",
        "plt.xlabel('p value')\n",
        "plt.ylabel('log10 frequency')\n",
        "plt.yscale('log')\n",
        "plt.legend();"
      ]
    },
    {
      "cell_type": "code",
      "execution_count": null,
      "metadata": {
        "id": "BzAbZcbM7Czu"
      },
      "outputs": [],
      "source": [
        "import matplotlib\n",
        "matplotlib.matplotlib_fname()"
      ]
    },
    {
      "cell_type": "code",
      "execution_count": null,
      "metadata": {
        "id": "Gr_QL6Vp7Czu"
      },
      "outputs": [],
      "source": [
        "#import matplotlib as mpl\n",
        "#fm = mpl.font_manager\n",
        "#fm.get_cachedir()\n",
        "\n",
        "from matplotlib import rcParams\n",
        "\n",
        "rcParams['font.family'] = 'sans-serif'"
      ]
    },
    {
      "cell_type": "code",
      "execution_count": 27,
      "metadata": {
        "scrolled": true,
        "colab": {
          "base_uri": "https://localhost:8080/",
          "height": 465
        },
        "id": "qE-eZqWj7Czv",
        "outputId": "83b6ce4f-a7d7-4f95-c4e8-035bc55cca37"
      },
      "outputs": [
        {
          "output_type": "display_data",
          "data": {
            "text/plain": [
              "<Figure size 800x500 with 1 Axes>"
            ],
            "image/png": "[encoded data removed]"
          },
          "metadata": {}
        }
      ],
      "source": [
        "uniform_rand = np.random.uniform(size=len(geno_meta))\n",
        "fig = plt.figure(figsize=(8,5))\n",
        "plt.hist(geno_meta['p_raw'], alpha=.5, label='p values', bins=40)\n",
        "plt.hist(uniform_rand, alpha=.5, label='random uniform', bins=40)\n",
        "plt.xlabel('p value')\n",
        "plt.ylabel('frequency')\n",
        "plt.vlines(0.05, 0, 700, color='black', linestyle='--')\n",
        "plt.legend();"
      ]
    },
    {
      "cell_type": "code",
      "execution_count": 28,
      "metadata": {
        "deletable": false,
        "nbgrader": {
          "cell_type": "code",
          "checksum": "0614d4ef16023285543751b99945404b",
          "grade": true,
          "grade_id": "cell-a57d83603ae32066",
          "locked": false,
          "points": 0,
          "schema_version": 3,
          "solution": true,
          "task": false
        },
        "colab": {
          "base_uri": "https://localhost:8080/",
          "height": 158
        },
        "id": "erCZt2dQ7Czv",
        "outputId": "98382cf9-8c8e-475b-f001-4e385e9b0a60"
      },
      "outputs": [
        {
          "output_type": "error",
          "ename": "NotImplementedError",
          "evalue": "",
          "traceback": [
            "\u001b[0;31m---------------------------------------------------------------------------\u001b[0m",
            "\u001b[0;31mNotImplementedError\u001b[0m                       Traceback (most recent call last)",
            "\u001b[0;32m<ipython-input-28-15b94d1fa268>\u001b[0m in \u001b[0;36m<cell line: 2>\u001b[0;34m()\u001b[0m\n\u001b[1;32m      1\u001b[0m \u001b[0;31m# YOUR CODE HERE\u001b[0m\u001b[0;34m\u001b[0m\u001b[0;34m\u001b[0m\u001b[0m\n\u001b[0;32m----> 2\u001b[0;31m \u001b[0;32mraise\u001b[0m \u001b[0mNotImplementedError\u001b[0m\u001b[0;34m(\u001b[0m\u001b[0;34m)\u001b[0m\u001b[0;34m\u001b[0m\u001b[0;34m\u001b[0m\u001b[0m\n\u001b[0m",
            "\u001b[0;31mNotImplementedError\u001b[0m: "
          ]
        }
      ],
      "source": [
        "# YOUR CODE HERE\n",
        "raise NotImplementedError()"
      ]
    },
    {
      "cell_type": "markdown",
      "metadata": {
        "id": "Jopu1xiN7Czv"
      },
      "source": [
        "## Task: Identify candidate genes from the significantly associated loci\n",
        "\n",
        "What we identified so far are trait associated SNPs. This doesn't mean there is directly a causal relationship between the markers identified in the association study and the phenotype. It is, however, a pointer towards the region of the genome that may be relevant for the variability in the measured trait. The genes encompassed in this region then need to be analysed further to identify viable mechanistic candidates.\n",
        "\n",
        "A good starting point for this fine grained analysis would be to look up the genes directly linked to the interesting SNPs in a mouse genome database (e.g, http://www.informatics.jax.org/snp/ ).\n",
        "\n",
        "Most likely the high ranking SNPs will not map directly to the causal gene, but will rather be markers for another variant in a gene in strong __linkage disequilibrium__ with these SNPs. We thus need to extend the search and look at other genes in the vicinity of the high ranking SNPs (i.e. the entire region where the best SNPs are found). Since they are typically inherited together, it's hard to say which  of them are the truly causal variants.\n",
        "\n",
        "Your task is to find candidate *genes* (instead of SNPs) using the website above. Reminder: the original BXD parent strains were called C57BL/6J and DBA/2J. Note that you can query entire regions, and in the query results page you can further filter the listed SNPs based on their properties (e.g. coding variant).\n",
        "\n",
        "Another resource you can use is the [UCSC Genome Browser](http://genome.ucsc.edu/) for visual explorations, or the [UCSC Table Browser](http://genome.ucsc.edu/cgi-bin/hgTables?hgsid=511555905_oFRLEcH1IWO1FdKyzynrsBCRMk7w) to obtain genes in a genomic region. The identifiers of proteins in the [Uniprot](http://www.uniprot.org/) database are listed in the resulting table. Uniprot then can provide useful annotations of the proteins found in the search frame.\n",
        "\n",
        "For the truly dedicated, or those with extra time on their hands, programmatic access is possible with the following services via a REST interface:\n",
        "\n",
        "[UCSC](http://genomewiki.ucsc.edu/index.php/Programmatic_access_to_the_Genome_Browser)     \n",
        "[Biomart](http://www.ensembl.org/info/data/biomart/biomart_restful.html)    \n",
        "[Uniprot](http://www.uniprot.org/help/programmatic_access)      \n",
        "\n",
        "But it's really just an extra task, and it's fine to use the websites via browser."
      ]
    },
    {
      "cell_type": "markdown",
      "metadata": {
        "id": "ruoGpdHc7Czv"
      },
      "source": [
        "As candidate genes, we report Tyrp1 found on chromosome 4, which plays a role in melanin biosynthesis, may regulate or influence the type of melanin synthesized and is partially capable of hydroxylating tyrosine and producing melanin[UniProt].Further, there are three proteins that could influence the development of the skin itself. Bnc2, a zinc finger protein, is a probable transcription factor specific for skin keratinocytes. This gene was also reported as an influence on the eye color of mice, together with the eye growth influecing Myo5a, which we did find on the ROI on chromosome 9. Frem1 is an extracellular matrix protein that plays a role in epidermal differentiation and is required for epidermal adhesion during embryonic development. Lastly, MEGF9 is the abbreviation of 'Multiple epidermal growth factor-like', which could also contribute to the skin variance"
      ]
    },
    {
      "cell_type": "code",
      "execution_count": 29,
      "metadata": {
        "colab": {
          "base_uri": "https://localhost:8080/",
          "height": 455
        },
        "id": "0T6-schi7Czv",
        "outputId": "043e9eb4-9402-45d4-e79c-658ec0826991"
      },
      "outputs": [
        {
          "output_type": "execute_result",
          "data": {
            "text/plain": [
              "               Chr      cM         Mb         p_raw  CHR_numeric      p_bh\n",
              "Locus                                                                     \n",
              "rs3708061        4  41.281  80.950126  8.233611e-09            4  0.000008\n",
              "rs13477796       4  41.281  78.698063  8.233611e-09            4  0.000008\n",
              "CEL-4_74121566   4  40.708  75.493222  8.233611e-09            4  0.000008\n",
              "CEL-4_74066970   4  40.708  75.438626  8.233611e-09            4  0.000008\n",
              "rs3658567        4  40.995  76.484833  1.829728e-08            4  0.000012\n",
              "...             ..     ...        ...           ...          ...       ...\n",
              "rs13480319       9  52.406  86.456294  8.868787e-04            9  0.038987\n",
              "rs3693091        9  53.570  90.299275  9.104820e-04            9  0.038987\n",
              "gnf09.088.487    9  53.570  91.799939  9.104820e-04            9  0.038987\n",
              "rs13477724       4  32.373  57.442781  9.104820e-04            4  0.038987\n",
              "rs6239799        4  32.373  56.510055  9.104820e-04            4  0.038987\n",
              "\n",
              "[89 rows x 6 columns]"
            ],
            "text/html": [
              "\n",
              "  <div id=\"df-3e5955d1-7958-4df5-86eb-5550f4f27088\" class=\"colab-df-container\">\n",
              "    <div>\n",
              "<style scoped>\n",
              "    .dataframe tbody tr th:only-of-type {\n",
              "        vertical-align: middle;\n",
              "    }\n",
              "\n",
              "    .dataframe tbody tr th {\n",
              "        vertical-align: top;\n",
              "    }\n",
              "\n",
              "    .dataframe thead th {\n",
              "        text-align: right;\n",
              "    }\n",
              "</style>\n",
              "<table border=\"1\" class=\"dataframe\">\n",
              "  <thead>\n",
              "    <tr style=\"text-align: right;\">\n",
              "      <th></th>\n",
              "      <th>Chr</th>\n",
              "      <th>cM</th>\n",
              "      <th>Mb</th>\n",
              "      <th>p_raw</th>\n",
              "      <th>CHR_numeric</th>\n",
              "      <th>p_bh</th>\n",
              "    </tr>\n",
              "    <tr>\n",
              "      <th>Locus</th>\n",
              "      <th></th>\n",
              "      <th></th>\n",
              "      <th></th>\n",
              "      <th></th>\n",
              "      <th></th>\n",
              "      <th></th>\n",
              "    </tr>\n",
              "  </thead>\n",
              "  <tbody>\n",
              "    <tr>\n",
              "      <th>rs3708061</th>\n",
              "      <td>4</td>\n",
              "      <td>41.281</td>\n",
              "      <td>80.950126</td>\n",
              "      <td>8.233611e-09</td>\n",
              "      <td>4</td>\n",
              "      <td>0.000008</td>\n",
              "    </tr>\n",
              "    <tr>\n",
              "      <th>rs13477796</th>\n",
              "      <td>4</td>\n",
              "      <td>41.281</td>\n",
              "      <td>78.698063</td>\n",
              "      <td>8.233611e-09</td>\n",
              "      <td>4</td>\n",
              "      <td>0.000008</td>\n",
              "    </tr>\n",
              "    <tr>\n",
              "      <th>CEL-4_74121566</th>\n",
              "      <td>4</td>\n",
              "      <td>40.708</td>\n",
              "      <td>75.493222</td>\n",
              "      <td>8.233611e-09</td>\n",
              "      <td>4</td>\n",
              "      <td>0.000008</td>\n",
              "    </tr>\n",
              "    <tr>\n",
              "      <th>CEL-4_74066970</th>\n",
              "      <td>4</td>\n",
              "      <td>40.708</td>\n",
              "      <td>75.438626</td>\n",
              "      <td>8.233611e-09</td>\n",
              "      <td>4</td>\n",
              "      <td>0.000008</td>\n",
              "    </tr>\n",
              "    <tr>\n",
              "      <th>rs3658567</th>\n",
              "      <td>4</td>\n",
              "      <td>40.995</td>\n",
              "      <td>76.484833</td>\n",
              "      <td>1.829728e-08</td>\n",
              "      <td>4</td>\n",
              "      <td>0.000012</td>\n",
              "    </tr>\n",
              "    <tr>\n",
              "      <th>...</th>\n",
              "      <td>...</td>\n",
              "      <td>...</td>\n",
              "      <td>...</td>\n",
              "      <td>...</td>\n",
              "      <td>...</td>\n",
              "      <td>...</td>\n",
              "    </tr>\n",
              "    <tr>\n",
              "      <th>rs13480319</th>\n",
              "      <td>9</td>\n",
              "      <td>52.406</td>\n",
              "      <td>86.456294</td>\n",
              "      <td>8.868787e-04</td>\n",
              "      <td>9</td>\n",
              "      <td>0.038987</td>\n",
              "    </tr>\n",
              "    <tr>\n",
              "      <th>rs3693091</th>\n",
              "      <td>9</td>\n",
              "      <td>53.570</td>\n",
              "      <td>90.299275</td>\n",
              "      <td>9.104820e-04</td>\n",
              "      <td>9</td>\n",
              "      <td>0.038987</td>\n",
              "    </tr>\n",
              "    <tr>\n",
              "      <th>gnf09.088.487</th>\n",
              "      <td>9</td>\n",
              "      <td>53.570</td>\n",
              "      <td>91.799939</td>\n",
              "      <td>9.104820e-04</td>\n",
              "      <td>9</td>\n",
              "      <td>0.038987</td>\n",
              "    </tr>\n",
              "    <tr>\n",
              "      <th>rs13477724</th>\n",
              "      <td>4</td>\n",
              "      <td>32.373</td>\n",
              "      <td>57.442781</td>\n",
              "      <td>9.104820e-04</td>\n",
              "      <td>4</td>\n",
              "      <td>0.038987</td>\n",
              "    </tr>\n",
              "    <tr>\n",
              "      <th>rs6239799</th>\n",
              "      <td>4</td>\n",
              "      <td>32.373</td>\n",
              "      <td>56.510055</td>\n",
              "      <td>9.104820e-04</td>\n",
              "      <td>4</td>\n",
              "      <td>0.038987</td>\n",
              "    </tr>\n",
              "  </tbody>\n",
              "</table>\n",
              "<p>89 rows × 6 columns</p>\n",
              "</div>\n",
              "    <div class=\"colab-df-buttons\">\n",
              "\n",
              "  <div class=\"colab-df-container\">\n",
              "    <button class=\"colab-df-convert\" onclick=\"convertToInteractive('df-3e5955d1-7958-4df5-86eb-5550f4f27088')\"\n",
              "            title=\"Convert this dataframe to an interactive table.\"\n",
              "            style=\"display:none;\">\n",
              "\n",
              "  <svg xmlns=\"http://www.w3.org/2000/svg\" height=\"24px\" viewBox=\"0 -960 960 960\">\n",
              "    <path d=\"M120-120v-720h720v720H120Zm60-500h600v-160H180v160Zm220 220h160v-160H400v160Zm0 220h160v-160H400v160ZM180-400h160v-160H180v160Zm440 0h160v-160H620v160ZM180-180h160v-160H180v160Zm440 0h160v-160H620v160Z\"/>\n",
              "  </svg>\n",
              "    </button>\n",
              "\n",
              "  <style>\n",
              "    .colab-df-container {\n",
              "      display:flex;\n",
              "      gap: 12px;\n",
              "    }\n",
              "\n",
              "    .colab-df-convert {\n",
              "      background-color: #E8F0FE;\n",
              "      border: none;\n",
              "      border-radius: 50%;\n",
              "      cursor: pointer;\n",
              "      display: none;\n",
              "      fill: #1967D2;\n",
              "      height: 32px;\n",
              "      padding: 0 0 0 0;\n",
              "      width: 32px;\n",
              "    }\n",
              "\n",
              "    .colab-df-convert:hover {\n",
              "      background-color: #E2EBFA;\n",
              "      box-shadow: 0px 1px 2px rgba(60, 64, 67, 0.3), 0px 1px 3px 1px rgba(60, 64, 67, 0.15);\n",
              "      fill: #174EA6;\n",
              "    }\n",
              "\n",
              "    .colab-df-buttons div {\n",
              "      margin-bottom: 4px;\n",
              "    }\n",
              "\n",
              "    [theme=dark] .colab-df-convert {\n",
              "      background-color: #3B4455;\n",
              "      fill: #D2E3FC;\n",
              "    }\n",
              "\n",
              "    [theme=dark] .colab-df-convert:hover {\n",
              "      background-color: #434B5C;\n",
              "      box-shadow: 0px 1px 3px 1px rgba(0, 0, 0, 0.15);\n",
              "      filter: drop-shadow(0px 1px 2px rgba(0, 0, 0, 0.3));\n",
              "      fill: #FFFFFF;\n",
              "    }\n",
              "  </style>\n",
              "\n",
              "    <script>\n",
              "      const buttonEl =\n",
              "        document.querySelector('#df-3e5955d1-7958-4df5-86eb-5550f4f27088 button.colab-df-convert');\n",
              "      buttonEl.style.display =\n",
              "        google.colab.kernel.accessAllowed ? 'block' : 'none';\n",
              "\n",
              "      async function convertToInteractive(key) {\n",
              "        const element = document.querySelector('#df-3e5955d1-7958-4df5-86eb-5550f4f27088');\n",
              "        const dataTable =\n",
              "          await google.colab.kernel.invokeFunction('convertToInteractive',\n",
              "                                                    [key], {});\n",
              "        if (!dataTable) return;\n",
              "\n",
              "        const docLinkHtml = 'Like what you see? Visit the ' +\n",
              "          '<a target=\"_blank\" href=https://colab.research.google.com/notebooks/data_table.ipynb>data table notebook</a>'\n",
              "          + ' to learn more about interactive tables.';\n",
              "        element.innerHTML = '';\n",
              "        dataTable['output_type'] = 'display_data';\n",
              "        await google.colab.output.renderOutput(dataTable, element);\n",
              "        const docLink = document.createElement('div');\n",
              "        docLink.innerHTML = docLinkHtml;\n",
              "        element.appendChild(docLink);\n",
              "      }\n",
              "    </script>\n",
              "  </div>\n",
              "\n",
              "\n",
              "<div id=\"df-29481710-3387-42b7-85ad-5553ee060db0\">\n",
              "  <button class=\"colab-df-quickchart\" onclick=\"quickchart('df-29481710-3387-42b7-85ad-5553ee060db0')\"\n",
              "            title=\"Suggest charts\"\n",
              "            style=\"display:none;\">\n",
              "\n",
              "<svg xmlns=\"http://www.w3.org/2000/svg\" height=\"24px\"viewBox=\"0 0 24 24\"\n",
              "     width=\"24px\">\n",
              "    <g>\n",
              "        <path d=\"M19 3H5c-1.1 0-2 .9-2 2v14c0 1.1.9 2 2 2h14c1.1 0 2-.9 2-2V5c0-1.1-.9-2-2-2zM9 17H7v-7h2v7zm4 0h-2V7h2v10zm4 0h-2v-4h2v4z\"/>\n",
              "    </g>\n",
              "</svg>\n",
              "  </button>\n",
              "\n",
              "<style>\n",
              "  .colab-df-quickchart {\n",
              "      --bg-color: #E8F0FE;\n",
              "      --fill-color: #1967D2;\n",
              "      --hover-bg-color: #E2EBFA;\n",
              "      --hover-fill-color: #174EA6;\n",
              "      --disabled-fill-color: #AAA;\n",
              "      --disabled-bg-color: #DDD;\n",
              "  }\n",
              "\n",
              "  [theme=dark] .colab-df-quickchart {\n",
              "      --bg-color: #3B4455;\n",
              "      --fill-color: #D2E3FC;\n",
              "      --hover-bg-color: #434B5C;\n",
              "      --hover-fill-color: #FFFFFF;\n",
              "      --disabled-bg-color: #3B4455;\n",
              "      --disabled-fill-color: #666;\n",
              "  }\n",
              "\n",
              "  .colab-df-quickchart {\n",
              "    background-color: var(--bg-color);\n",
              "    border: none;\n",
              "    border-radius: 50%;\n",
              "    cursor: pointer;\n",
              "    display: none;\n",
              "    fill: var(--fill-color);\n",
              "    height: 32px;\n",
              "    padding: 0;\n",
              "    width: 32px;\n",
              "  }\n",
              "\n",
              "  .colab-df-quickchart:hover {\n",
              "    background-color: var(--hover-bg-color);\n",
              "    box-shadow: 0 1px 2px rgba(60, 64, 67, 0.3), 0 1px 3px 1px rgba(60, 64, 67, 0.15);\n",
              "    fill: var(--button-hover-fill-color);\n",
              "  }\n",
              "\n",
              "  .colab-df-quickchart-complete:disabled,\n",
              "  .colab-df-quickchart-complete:disabled:hover {\n",
              "    background-color: var(--disabled-bg-color);\n",
              "    fill: var(--disabled-fill-color);\n",
              "    box-shadow: none;\n",
              "  }\n",
              "\n",
              "  .colab-df-spinner {\n",
              "    border: 2px solid var(--fill-color);\n",
              "    border-color: transparent;\n",
              "    border-bottom-color: var(--fill-color);\n",
              "    animation:\n",
              "      spin 1s steps(1) infinite;\n",
              "  }\n",
              "\n",
              "  @keyframes spin {\n",
              "    0% {\n",
              "      border-color: transparent;\n",
              "      border-bottom-color: var(--fill-color);\n",
              "      border-left-color: var(--fill-color);\n",
              "    }\n",
              "    20% {\n",
              "      border-color: transparent;\n",
              "      border-left-color: var(--fill-color);\n",
              "      border-top-color: var(--fill-color);\n",
              "    }\n",
              "    30% {\n",
              "      border-color: transparent;\n",
              "      border-left-color: var(--fill-color);\n",
              "      border-top-color: var(--fill-color);\n",
              "      border-right-color: var(--fill-color);\n",
              "    }\n",
              "    40% {\n",
              "      border-color: transparent;\n",
              "      border-right-color: var(--fill-color);\n",
              "      border-top-color: var(--fill-color);\n",
              "    }\n",
              "    60% {\n",
              "      border-color: transparent;\n",
              "      border-right-color: var(--fill-color);\n",
              "    }\n",
              "    80% {\n",
              "      border-color: transparent;\n",
              "      border-right-color: var(--fill-color);\n",
              "      border-bottom-color: var(--fill-color);\n",
              "    }\n",
              "    90% {\n",
              "      border-color: transparent;\n",
              "      border-bottom-color: var(--fill-color);\n",
              "    }\n",
              "  }\n",
              "</style>\n",
              "\n",
              "  <script>\n",
              "    async function quickchart(key) {\n",
              "      const quickchartButtonEl =\n",
              "        document.querySelector('#' + key + ' button');\n",
              "      quickchartButtonEl.disabled = true;  // To prevent multiple clicks.\n",
              "      quickchartButtonEl.classList.add('colab-df-spinner');\n",
              "      try {\n",
              "        const charts = await google.colab.kernel.invokeFunction(\n",
              "            'suggestCharts', [key], {});\n",
              "      } catch (error) {\n",
              "        console.error('Error during call to suggestCharts:', error);\n",
              "      }\n",
              "      quickchartButtonEl.classList.remove('colab-df-spinner');\n",
              "      quickchartButtonEl.classList.add('colab-df-quickchart-complete');\n",
              "    }\n",
              "    (() => {\n",
              "      let quickchartButtonEl =\n",
              "        document.querySelector('#df-29481710-3387-42b7-85ad-5553ee060db0 button');\n",
              "      quickchartButtonEl.style.display =\n",
              "        google.colab.kernel.accessAllowed ? 'block' : 'none';\n",
              "    })();\n",
              "  </script>\n",
              "</div>\n",
              "    </div>\n",
              "  </div>\n"
            ],
            "application/vnd.google.colaboratory.intrinsic+json": {
              "type": "dataframe",
              "summary": "{\n  \"name\": \"ROI\",\n  \"rows\": 89,\n  \"fields\": [\n    {\n      \"column\": \"Chr\",\n      \"properties\": {\n        \"dtype\": \"category\",\n        \"num_unique_values\": 2,\n        \"samples\": [\n          \"9\",\n          \"4\"\n        ],\n        \"semantic_type\": \"\",\n        \"description\": \"\"\n      }\n    },\n    {\n      \"column\": \"cM\",\n      \"properties\": {\n        \"dtype\": \"number\",\n        \"std\": 5.1041592972061895,\n        \"min\": 32.373,\n        \"max\": 54.43,\n        \"num_unique_values\": 51,\n        \"samples\": [\n          49.653,\n          54.143\n        ],\n        \"semantic_type\": \"\",\n        \"description\": \"\"\n      }\n    },\n    {\n      \"column\": \"Mb\",\n      \"properties\": {\n        \"dtype\": \"number\",\n        \"std\": 9.77860771861749,\n        \"min\": 56.510055,\n        \"max\": 101.102848,\n        \"num_unique_values\": 89,\n        \"samples\": [\n          77.247378,\n          89.978372\n        ],\n        \"semantic_type\": \"\",\n        \"description\": \"\"\n      }\n    },\n    {\n      \"column\": \"p_raw\",\n      \"properties\": {\n        \"dtype\": \"number\",\n        \"std\": 0.00023049362258352647,\n        \"min\": 8.233611065033816e-09,\n        \"max\": 0.0009104820464818776,\n        \"num_unique_values\": 32,\n        \"samples\": [\n          0.0005654169864505651,\n          7.089647585670437e-06\n        ],\n        \"semantic_type\": \"\",\n        \"description\": \"\"\n      }\n    },\n    {\n      \"column\": \"CHR_numeric\",\n      \"properties\": {\n        \"dtype\": \"number\",\n        \"std\": 2,\n        \"min\": 4,\n        \"max\": 9,\n        \"num_unique_values\": 2,\n        \"samples\": [\n          9,\n          4\n        ],\n        \"semantic_type\": \"\",\n        \"description\": \"\"\n      }\n    },\n    {\n      \"column\": \"p_bh\",\n      \"properties\": {\n        \"dtype\": \"number\",\n        \"std\": 0.010126312809606195,\n        \"min\": 7.84457294221097e-06,\n        \"max\": 0.038987045833061076,\n        \"num_unique_values\": 26,\n        \"samples\": [\n          0.00022366886644753883,\n          0.007163830294076443\n        ],\n        \"semantic_type\": \"\",\n        \"description\": \"\"\n      }\n    }\n  ]\n}"
            }
          },
          "metadata": {},
          "execution_count": 29
        }
      ],
      "source": [
        "#access the names of the SNPs associated with fur colour\n",
        "name_array = results_df[results_df['Rejected']].index.values\n",
        "ROI = geno_meta[geno_meta[\"p_bh\"] < 0.05]\n",
        "ROI.sort_values('p_bh')"
      ]
    },
    {
      "cell_type": "markdown",
      "metadata": {
        "deletable": false,
        "nbgrader": {
          "cell_type": "markdown",
          "checksum": "4c9249a47277e1f3cad31704e8858942",
          "grade": true,
          "grade_id": "cell-af83bc9b6a8db209",
          "locked": false,
          "points": 0,
          "schema_version": 3,
          "solution": true,
          "task": false
        },
        "id": "w2SeWFKV7Czv"
      },
      "source": [
        "YOUR ANSWER HERE"
      ]
    },
    {
      "cell_type": "markdown",
      "metadata": {
        "id": "m-zRxjYQ7Czv"
      },
      "source": [
        "### Check if the genes you found match the literature about genetics of mouse coat color\n",
        "\n",
        "Hint / spoiler: ([PMC2736153](http://www.ncbi.nlm.nih.gov/pmc/articles/PMC2736153))."
      ]
    },
    {
      "cell_type": "markdown",
      "metadata": {
        "deletable": false,
        "editable": true,
        "nbgrader": {
          "cell_type": "markdown",
          "checksum": "f8c285e3a92c5e8ae35082ad0fe7c307",
          "grade": true,
          "grade_id": "cell-a14cfc50584f1c5e",
          "locked": false,
          "points": 0,
          "schema_version": 3,
          "solution": true,
          "task": false
        },
        "tags": [],
        "id": "loIMaM6a7Czv"
      },
      "source": [
        "As candidate genes, we report Tyrp1 found on chromosome 4, which plays a role in melanin biosynthesis, may regulate or influence the type of melanin synthesized and is partially capable of hydroxylating tyrosine and producing melanin[UniProt]. Further, Bnc2, a zinc finger protein, is a probable transcription factor specific for skin keratinocytes.\n",
        "\n",
        "This gene was also reported as an influence on the eye color of mice, together with the eye growth influecing Myo5a, which we did find on the ROI on chromosome 9."
      ]
    },
    {
      "cell_type": "markdown",
      "metadata": {
        "id": "AY7cWKRq7Czw"
      },
      "source": [
        "TCF12 WDR31 or 21"
      ]
    },
    {
      "cell_type": "markdown",
      "metadata": {
        "id": "6hNnsN1s7Czw"
      },
      "source": [
        "Not also in mice but also in other mammals, pubmed database\n",
        "Around 75-80 significant regions and proteins"
      ]
    }
  ],
  "metadata": {
    "anaconda-cloud": {},
    "hide_input": false,
    "kernelspec": {
      "display_name": "Python 3 (ipykernel)",
      "language": "python",
      "name": "python3"
    },
    "language_info": {
      "codemirror_mode": {
        "name": "ipython",
        "version": 3
      },
      "file_extension": ".py",
      "mimetype": "text/x-python",
      "name": "python",
      "nbconvert_exporter": "python",
      "pygments_lexer": "ipython3",
      "version": "3.12.2"
    },
    "nav_menu": {},
    "toc": {
      "navigate_menu": true,
      "number_sections": true,
      "sideBar": false,
      "threshold": 6,
      "toc_cell": false,
      "toc_number_sections": true,
      "toc_section_display": "none",
      "toc_window_display": true
    },
    "toc_position": {
      "height": "1208px",
      "left": "1265px",
      "right": "20px",
      "top": "88px",
      "width": "600px"
    },
    "colab": {
      "provenance": [],
      "include_colab_link": true
    }
  },
  "nbformat": 4,
  "nbformat_minor": 0
}